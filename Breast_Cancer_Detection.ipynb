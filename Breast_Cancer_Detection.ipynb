{
  "cells": [
    {
      "cell_type": "markdown",
      "metadata": {
        "id": "view-in-github",
        "colab_type": "text"
      },
      "source": [
        "<a href=\"https://colab.research.google.com/github/TAJ-32/Projects/blob/main/Breast_Cancer_Detection.ipynb\" target=\"_parent\"><img src=\"https://colab.research.google.com/assets/colab-badge.svg\" alt=\"Open In Colab\"/></a>"
      ]
    },
    {
      "cell_type": "code",
      "execution_count": null,
      "metadata": {
        "colab": {
          "base_uri": "https://localhost:8080/",
          "height": 576
        },
        "id": "jCYnTfaeXk0r",
        "outputId": "47bd1821-8896-41bd-eeb7-660fd2ca2fa8"
      },
      "outputs": [
        {
          "output_type": "display_data",
          "data": {
            "text/plain": [
              "<IPython.core.display.HTML object>"
            ],
            "text/html": [
              "\n",
              "     <input type=\"file\" id=\"files-400c7f34-1360-4790-b8c6-857db192d530\" name=\"files[]\" multiple disabled\n",
              "        style=\"border:none\" />\n",
              "     <output id=\"result-400c7f34-1360-4790-b8c6-857db192d530\">\n",
              "      Upload widget is only available when the cell has been executed in the\n",
              "      current browser session. Please rerun this cell to enable.\n",
              "      </output>\n",
              "      <script>// Copyright 2017 Google LLC\n",
              "//\n",
              "// Licensed under the Apache License, Version 2.0 (the \"License\");\n",
              "// you may not use this file except in compliance with the License.\n",
              "// You may obtain a copy of the License at\n",
              "//\n",
              "//      http://www.apache.org/licenses/LICENSE-2.0\n",
              "//\n",
              "// Unless required by applicable law or agreed to in writing, software\n",
              "// distributed under the License is distributed on an \"AS IS\" BASIS,\n",
              "// WITHOUT WARRANTIES OR CONDITIONS OF ANY KIND, either express or implied.\n",
              "// See the License for the specific language governing permissions and\n",
              "// limitations under the License.\n",
              "\n",
              "/**\n",
              " * @fileoverview Helpers for google.colab Python module.\n",
              " */\n",
              "(function(scope) {\n",
              "function span(text, styleAttributes = {}) {\n",
              "  const element = document.createElement('span');\n",
              "  element.textContent = text;\n",
              "  for (const key of Object.keys(styleAttributes)) {\n",
              "    element.style[key] = styleAttributes[key];\n",
              "  }\n",
              "  return element;\n",
              "}\n",
              "\n",
              "// Max number of bytes which will be uploaded at a time.\n",
              "const MAX_PAYLOAD_SIZE = 100 * 1024;\n",
              "\n",
              "function _uploadFiles(inputId, outputId) {\n",
              "  const steps = uploadFilesStep(inputId, outputId);\n",
              "  const outputElement = document.getElementById(outputId);\n",
              "  // Cache steps on the outputElement to make it available for the next call\n",
              "  // to uploadFilesContinue from Python.\n",
              "  outputElement.steps = steps;\n",
              "\n",
              "  return _uploadFilesContinue(outputId);\n",
              "}\n",
              "\n",
              "// This is roughly an async generator (not supported in the browser yet),\n",
              "// where there are multiple asynchronous steps and the Python side is going\n",
              "// to poll for completion of each step.\n",
              "// This uses a Promise to block the python side on completion of each step,\n",
              "// then passes the result of the previous step as the input to the next step.\n",
              "function _uploadFilesContinue(outputId) {\n",
              "  const outputElement = document.getElementById(outputId);\n",
              "  const steps = outputElement.steps;\n",
              "\n",
              "  const next = steps.next(outputElement.lastPromiseValue);\n",
              "  return Promise.resolve(next.value.promise).then((value) => {\n",
              "    // Cache the last promise value to make it available to the next\n",
              "    // step of the generator.\n",
              "    outputElement.lastPromiseValue = value;\n",
              "    return next.value.response;\n",
              "  });\n",
              "}\n",
              "\n",
              "/**\n",
              " * Generator function which is called between each async step of the upload\n",
              " * process.\n",
              " * @param {string} inputId Element ID of the input file picker element.\n",
              " * @param {string} outputId Element ID of the output display.\n",
              " * @return {!Iterable<!Object>} Iterable of next steps.\n",
              " */\n",
              "function* uploadFilesStep(inputId, outputId) {\n",
              "  const inputElement = document.getElementById(inputId);\n",
              "  inputElement.disabled = false;\n",
              "\n",
              "  const outputElement = document.getElementById(outputId);\n",
              "  outputElement.innerHTML = '';\n",
              "\n",
              "  const pickedPromise = new Promise((resolve) => {\n",
              "    inputElement.addEventListener('change', (e) => {\n",
              "      resolve(e.target.files);\n",
              "    });\n",
              "  });\n",
              "\n",
              "  const cancel = document.createElement('button');\n",
              "  inputElement.parentElement.appendChild(cancel);\n",
              "  cancel.textContent = 'Cancel upload';\n",
              "  const cancelPromise = new Promise((resolve) => {\n",
              "    cancel.onclick = () => {\n",
              "      resolve(null);\n",
              "    };\n",
              "  });\n",
              "\n",
              "  // Wait for the user to pick the files.\n",
              "  const files = yield {\n",
              "    promise: Promise.race([pickedPromise, cancelPromise]),\n",
              "    response: {\n",
              "      action: 'starting',\n",
              "    }\n",
              "  };\n",
              "\n",
              "  cancel.remove();\n",
              "\n",
              "  // Disable the input element since further picks are not allowed.\n",
              "  inputElement.disabled = true;\n",
              "\n",
              "  if (!files) {\n",
              "    return {\n",
              "      response: {\n",
              "        action: 'complete',\n",
              "      }\n",
              "    };\n",
              "  }\n",
              "\n",
              "  for (const file of files) {\n",
              "    const li = document.createElement('li');\n",
              "    li.append(span(file.name, {fontWeight: 'bold'}));\n",
              "    li.append(span(\n",
              "        `(${file.type || 'n/a'}) - ${file.size} bytes, ` +\n",
              "        `last modified: ${\n",
              "            file.lastModifiedDate ? file.lastModifiedDate.toLocaleDateString() :\n",
              "                                    'n/a'} - `));\n",
              "    const percent = span('0% done');\n",
              "    li.appendChild(percent);\n",
              "\n",
              "    outputElement.appendChild(li);\n",
              "\n",
              "    const fileDataPromise = new Promise((resolve) => {\n",
              "      const reader = new FileReader();\n",
              "      reader.onload = (e) => {\n",
              "        resolve(e.target.result);\n",
              "      };\n",
              "      reader.readAsArrayBuffer(file);\n",
              "    });\n",
              "    // Wait for the data to be ready.\n",
              "    let fileData = yield {\n",
              "      promise: fileDataPromise,\n",
              "      response: {\n",
              "        action: 'continue',\n",
              "      }\n",
              "    };\n",
              "\n",
              "    // Use a chunked sending to avoid message size limits. See b/62115660.\n",
              "    let position = 0;\n",
              "    do {\n",
              "      const length = Math.min(fileData.byteLength - position, MAX_PAYLOAD_SIZE);\n",
              "      const chunk = new Uint8Array(fileData, position, length);\n",
              "      position += length;\n",
              "\n",
              "      const base64 = btoa(String.fromCharCode.apply(null, chunk));\n",
              "      yield {\n",
              "        response: {\n",
              "          action: 'append',\n",
              "          file: file.name,\n",
              "          data: base64,\n",
              "        },\n",
              "      };\n",
              "\n",
              "      let percentDone = fileData.byteLength === 0 ?\n",
              "          100 :\n",
              "          Math.round((position / fileData.byteLength) * 100);\n",
              "      percent.textContent = `${percentDone}% done`;\n",
              "\n",
              "    } while (position < fileData.byteLength);\n",
              "  }\n",
              "\n",
              "  // All done.\n",
              "  yield {\n",
              "    response: {\n",
              "      action: 'complete',\n",
              "    }\n",
              "  };\n",
              "}\n",
              "\n",
              "scope.google = scope.google || {};\n",
              "scope.google.colab = scope.google.colab || {};\n",
              "scope.google.colab._files = {\n",
              "  _uploadFiles,\n",
              "  _uploadFilesContinue,\n",
              "};\n",
              "})(self);\n",
              "</script> "
            ]
          },
          "metadata": {}
        },
        {
          "output_type": "stream",
          "name": "stdout",
          "text": [
            "Saving kaggle.json to kaggle.json\n",
            "-rw-r--r-- 1 root root 66 Feb  2 00:02 kaggle.json\n",
            "/content\n",
            "ref                                                              title                                                size  lastUpdated          downloadCount  voteCount  usabilityRating  \n",
            "---------------------------------------------------------------  --------------------------------------------------  -----  -------------------  -------------  ---------  ---------------  \n",
            "ahsan81/hotel-reservations-classification-dataset                Hotel Reservations Dataset                          480KB  2023-01-04 12:50:31           7135        249  1.0              \n",
            "themrityunjaypathak/most-subscribed-1000-youtube-channels        Most Subscribed 1000 Youtube Channels                28KB  2023-01-21 14:42:05           1233         42  1.0              \n",
            "senapatirajesh/netflix-tv-shows-and-movies                       Latest Netflix TV shows and movies                    1MB  2023-01-14 17:03:12           2620         69  0.9411765        \n",
            "ulrikthygepedersen/online-retail-dataset                         Online Retail Dataset                                 7MB  2023-01-20 13:50:59            957         26  1.0              \n",
            "yanmaksi/big-startup-secsees-fail-dataset-from-crunchbase        🚀Startup Success/Fail Dataset from Crunchbase         3MB  2023-01-22 19:14:28            889         32  1.0              \n",
            "yashwanthkumarmn/motorcycles-in-india                            Motorcycles in India                                  9KB  2023-01-14 09:35:13           1066         25  1.0              \n",
            "salimwid/technology-company-layoffs-20222023-data                Technology Company Layoffs (2022-2023)               13KB  2023-01-24 07:07:51           1008         33  1.0              \n",
            "cesaber/spam-email-data-spamassassin-2002                        Spam Email Data original & CSV file (Spamassassin)   12MB  2023-01-24 09:16:05            396         28  1.0              \n",
            "ahbab911/top-250-korean-dramas-kdrama-dataset                    Top 250 Korean Dramas (KDrama) Dataset               90KB  2023-01-21 10:06:24            736         35  1.0              \n",
            "rakkesharv/spotify-top-10000-streamed-songs                      Spotify Top 10000 Streamed Songs                    280KB  2023-01-02 08:17:15           2880         83  1.0              \n",
            "rishikeshkonapure/home-loan-approval                             Home Loan Approval                                   13KB  2023-01-12 06:28:57           2142         51  1.0              \n",
            "themrityunjaypathak/imdb-top-100-movies                          IMDb Top 100 Movies                                   4KB  2023-01-11 17:15:09           1804         51  1.0              \n",
            "ahsan81/job-placement-dataset                                    Job Placement Dataset                                 4KB  2023-01-09 09:58:49           1271         32  1.0              \n",
            "yashsrivastava51213/revenue-and-profit-of-fortune-500-companies  Revenue and Profit of Fortune 500 Companies.        328KB  2023-01-22 05:46:13            569         27  0.88235295       \n",
            "thedevastator/rotten-tomatoes-top-movies-ratings-and-technical   Rotten Tomatoes Top Movies Ratings and Technical    685KB  2023-01-17 09:43:42            853         35  1.0              \n",
            "thedevastator/global-fossil-co2-emissions-by-country-2002-2022   Emissions by Country                                  2MB  2023-01-24 04:24:10           2691         78  1.0              \n",
            "thedevastator/supermarket-ordering-invoicing-and-sales-analysi   Supermarket Ordering, Invoicing, and Sales            4MB  2023-01-15 15:37:10           1056         29  0.9411765        \n",
            "shibumohapatra/customer-life-time-value                          Customer Life Time Value                              2MB  2023-01-23 09:52:06            433         24  1.0              \n",
            "karkavelrajaj/amazon-sales-dataset                               Amazon Sales Dataset                                  2MB  2023-01-17 06:21:15           1507         47  1.0              \n",
            "dansbecker/melbourne-housing-snapshot                            Melbourne Housing Snapshot                          451KB  2018-06-05 12:52:24         105747       1203  0.7058824        \n",
            "Downloading rsna-breast-cancer-512-pngs.zip to /content\n",
            "100% 3.50G/3.50G [02:08<00:00, 35.8MB/s]\n",
            "100% 3.50G/3.50G [02:08<00:00, 29.3MB/s]\n"
          ]
        }
      ],
      "source": [
        "#https://www.kaggle.com/general/156610\n",
        "#This is how we import the dataset directly from kaggle.\n",
        "from google.colab import files\n",
        "\n",
        "files.upload()\n",
        "!ls -lha kaggle.json\n",
        "!pip install -q kaggle\n",
        "!mkdir -p ~/.kaggle\n",
        "!cp kaggle.json ~/.kaggle/\n",
        "!chmod 600 /root/.kaggle/kaggle.json\n",
        "!pwd\n",
        "!kaggle datasets list\n",
        "!kaggle datasets download theoviel/rsna-breast-cancer-512-pngs"
      ]
    },
    {
      "cell_type": "code",
      "execution_count": null,
      "metadata": {
        "id": "ggo5md2-1QIA"
      },
      "outputs": [],
      "source": [
        "# This is meant to be the CNN for Breast Cancer Detection competition run by Kaggle and the Radiological Society of North America\n",
        "#   as an extension GradCAM is implemented on the dataset such that we can see which parts of the image trigger a positive cancer detection\n",
        "\n",
        "import torch\n",
        "import torch.nn as nn\n",
        "import torchvision\n",
        "import torchvision.transforms as transforms\n",
        "import matplotlib.pyplot as pyplot\n",
        "from torch.utils.data import Dataset, DataLoader\n",
        "import numpy as np\n",
        "import pandas as pd\n",
        "from PIL import Image\n",
        "from io import StringIO, BytesIO, TextIOWrapper\n",
        "from zipfile import ZipFile\n",
        "import matplotlib.pyplot as plt\n",
        "from sklearn.model_selection import train_test_split\n",
        "from zipfile import ZipFile\n"
      ]
    },
    {
      "cell_type": "code",
      "execution_count": null,
      "metadata": {
        "id": "bdcW-amz1T_B"
      },
      "outputs": [],
      "source": [
        "# Load the data (only csvs containing metadata) and stuff:\n",
        "# Define data set of the metadata to make them iterable\n",
        "class PatientMetaData():\n",
        "    def __init__(self):\n",
        "        self.all_meta_data  = pd.read_csv(\"train.csv\") # I will send you this file that way you can upload it yourself, but it's too big to put on drive easily\n",
        "        # Total dataset is around 57,000\n",
        "        patient_image_ids = self.all_meta_data.iloc[:, 1:3] # Columns for patient ID, imageID, left \"L\" or right \"R\" breast\n",
        "        cancer_labels  = self.all_meta_data.iloc[:,6]\n",
        "        \n",
        "        # Now convert the incoming data into tensors:\n",
        "        self.all_x = torch.tensor(patient_image_ids.to_numpy(), dtype=torch.int)\n",
        "        self.all_y = torch.tensor(cancer_labels.to_numpy(), dtype=torch.long) # since the probability output wil be in long format\n",
        "        \n",
        "        # And partition the data into testing and training sets:\n",
        "        self.x_train, self.x_test, self.y_train, self.y_test = train_test_split(self.all_x, self.all_y, test_size=0.2)\n",
        "        self.n_samples = self.x_train.shape[0]\n",
        "        \n",
        "    def __getitem__(self, index):\n",
        "        # Return patient ID, image ID, cancer bool for the training set\n",
        "        patientID = self.x_train[index, 0].numpy()\n",
        "        imageID = self.x_train[index, 1].numpy()\n",
        "        filename = str(patientID) + \"_\" + str(imageID) + \".png\" \n",
        "        return filename, self.y_train[index]\n",
        "    \n",
        "    def __len__(self):\n",
        "        return self.n_samples\n",
        "    \n",
        "    def test_sets(self):\n",
        "        return self.x_test.numpy(), self.y_test.numpy()"
      ]
    },
    {
      "cell_type": "code",
      "execution_count": null,
      "metadata": {
        "id": "9PUTzu6I1dzC"
      },
      "outputs": [],
      "source": [
        "# hyper parameters\n",
        "num_epochs = 15\n",
        "batch_size = 256\n",
        "learning_rate = 0.0001\n",
        "\n",
        "# Create the training data loader:\n",
        "meta_dataset = PatientMetaData()\n",
        "data_loader  = DataLoader(dataset=meta_dataset, batch_size = batch_size, shuffle=True)"
      ]
    },
    {
      "cell_type": "code",
      "execution_count": null,
      "metadata": {
        "id": "rz0eauNc1ecC"
      },
      "outputs": [],
      "source": [
        "################## NOW DEFINE THE ARCHITECTURE OF THE CNN ############################\n",
        "class ConvNet(nn.Module):\n",
        "    def __init__(self):\n",
        "        super(ConvNet, self).__init__()\n",
        "        self.block1 = nn.Sequential(\n",
        "            nn.Conv2d(1, 3, 5), # Assuming 1 in channel (inputs are b&w), output channel size is 3 and kernels are 5x5\n",
        "            nn.ReLU(),\n",
        "            nn.MaxPool2d(2,2), # Kernel size is 2x2 with stride of 2\n",
        "            nn.Conv2d(3, 5, 5), # input channel size is equal to the last channel size, kernels are still 5x5\n",
        "            nn.ReLU(),\n",
        "            nn.MaxPool2d(2,2), # Kernel size is 2x2 with stride of 2\n",
        "            nn.Conv2d(5, 5, 5),\n",
        "            nn.ReLU()\n",
        "        )\n",
        "        self.block2 = nn.Sequential(\n",
        "            nn.Linear(73205, 128), \n",
        "            nn.ReLU(),\n",
        "            nn.Linear(128, 64),\n",
        "            nn.ReLU(),\n",
        "            nn.Linear(64, 2)\n",
        "        )\n",
        "    # We need to apply the hook before the last pooling layer and after all the convolutional layers\n",
        "    \n",
        "    # Code for the hook method of GradCAM is from:\n",
        "    #   https://medium.com/@stepanulyanin/implementing-grad-cam-in-pytorch-ea0937c31e82\n",
        "    # hook for the gradients of the activations\n",
        "    def activations_hook(self, grad):\n",
        "        self.gradients = grad\n",
        "    \n",
        "    \n",
        "    def forward(self, x):\n",
        "        # Pass the input through the convolutional layers!\n",
        "        x_internal = self.block1(x)\n",
        "        \n",
        "        # Record the gradients after the convolutional layers\n",
        "        if x_internal.requires_grad:\n",
        "          h = x_internal.register_hook(self.activations_hook)\n",
        "        # Flatten the output\n",
        "        x_internal = x_internal.view(-1, 73205)\n",
        "        # And feed it to the fully connected layers\n",
        "        y_pred = self.block2(x_internal)\n",
        "        return y_pred\n",
        "    \n",
        "    # method for the gradient extraction\n",
        "    def get_activations_gradient(self):\n",
        "        return self.gradients\n",
        "    \n",
        "    # method for the activation extraction\n",
        "    def get_activations(self, x):\n",
        "        return self.block1(x)"
      ]
    },
    {
      "cell_type": "code",
      "execution_count": null,
      "metadata": {
        "id": "sjA4rDW3O-gV"
      },
      "outputs": [],
      "source": [
        "def onehot(c):\n",
        "    #Vector is one hot encoded with v_1 = negative , v_2 = positive\n",
        "    v = torch.zeros(2)\n",
        "    v[c] = 1\n",
        "    return v"
      ]
    },
    {
      "cell_type": "code",
      "execution_count": null,
      "metadata": {
        "id": "S0-ioqJ3PFlJ"
      },
      "outputs": [],
      "source": [
        "# Code for creating model, loss function and optimizer\n",
        "torch.cuda.empty_cache()\n",
        "# Change our device to the gpu\n",
        "device = torch.device(\"cuda\" if torch.cuda.is_available() else \"cpu\")\n",
        "model = ConvNet().to(device)\n",
        "criterion = nn.CrossEntropyLoss(torch.tensor([1, 25], dtype=torch.float32)) #calculate our loss\n",
        "optimizer = torch.optim.Adam(model.parameters(), lr=learning_rate) #use our optimizer\n",
        "transform = transforms.Compose([transforms.ToTensor()]) #making our data into a tensor so that it can be more easily worked with\n",
        "samples_zip = ZipFile(\"rsna-breast-cancer-512-pngs.zip\")"
      ]
    },
    {
      "cell_type": "code",
      "execution_count": null,
      "metadata": {
        "colab": {
          "base_uri": "https://localhost:8080/"
        },
        "id": "a32D1kfsPP8Y",
        "outputId": "504ff8df-07f4-4433-c65c-6c46052f90f0"
      },
      "outputs": [
        {
          "output_type": "stream",
          "name": "stdout",
          "text": [
            "epoch: 0, loss: 0.6404361724853516\n",
            "epoch: 1, loss: 0.6348721385002136\n",
            "epoch: 2, loss: 0.6359244585037231\n",
            "epoch: 3, loss: 0.6308185458183289\n",
            "epoch: 4, loss: 0.625744640827179\n",
            "epoch: 5, loss: 0.6219632029533386\n",
            "epoch: 6, loss: 0.6089001893997192\n",
            "epoch: 7, loss: 0.5968013405799866\n",
            "epoch: 8, loss: 0.5780321955680847\n",
            "epoch: 9, loss: 0.5509369373321533\n",
            "epoch: 10, loss: 0.523531436920166\n",
            "epoch: 11, loss: 0.4921568036079407\n",
            "epoch: 12, loss: 0.45471975207328796\n",
            "epoch: 13, loss: 0.41631776094436646\n",
            "epoch: 14, loss: 0.3755224645137787\n"
          ]
        }
      ],
      "source": [
        "# TRAIN LOOP\n",
        "# Images can be found here: \"https://www.kaggle.com/datasets/radek1/rsna-mammography-images-as-pngs?select=images_as_pngs\"\n",
        "num_steps = len(data_loader) # Need to implement the train loader depending on what the data is\n",
        "#print(num_steps)\n",
        "for epoch in range(num_epochs):\n",
        "    total_loss = 0\n",
        "    num_iters = 0\n",
        "    for i, (filepaths, c) in enumerate(data_loader):\n",
        "        # image_tensors will eventually hold all the images in a given batch\n",
        "        image_tensors = torch.empty([len(filepaths), 512, 512]) # len(filepaths) usually = batch size, but not when we reach the end of the data\n",
        "        for j, filepath in enumerate(filepaths):\n",
        "            # Get the current sample out of the zip file\n",
        "            current_mammo = samples_zip.open(filepath)\n",
        "            mammo_img = Image.open(current_mammo)\n",
        "            image_tensor = transform(mammo_img).squeeze()\n",
        "            image_tensors[j] = image_tensor\n",
        "        # Put image tensors in format batch, channels, height, width\n",
        "        image_tensors = image_tensors.to(device).unsqueeze(1)\n",
        "        # Forward pass:\n",
        "        outputs = model(image_tensors).cpu()\n",
        "\n",
        "        # Compute loss:\n",
        "        loss = criterion(outputs, c)\n",
        "        num_iters += 1\n",
        "        total_loss += loss.detach()\n",
        "        \n",
        "        \n",
        "        # Backward and optimize\n",
        "        optimizer.zero_grad()\n",
        "        loss.backward()\n",
        "        optimizer.step()\n",
        "    \n",
        "    total_loss = total_loss / num_iters\n",
        "    print(f'epoch: {epoch}, loss: {total_loss}')"
      ]
    },
    {
      "cell_type": "code",
      "execution_count": null,
      "metadata": {
        "id": "Nddx2QSU1kcW",
        "colab": {
          "base_uri": "https://localhost:8080/",
          "height": 724
        },
        "outputId": "700243dd-9f8a-4f05-9655-519feb6332a5"
      },
      "outputs": [
        {
          "output_type": "stream",
          "name": "stdout",
          "text": [
            "tensor([-0.0211, -0.1391], device='cuda:0', grad_fn=<SqueezeBackward0>)\n",
            "torch.Size([1, 5, 121, 121])\n",
            "torch.Size([5, 121, 121])\n",
            "tensor([[0.0000, 0.1791, 0.2368,  ..., 0.0000, 0.0000, 0.0407],\n",
            "        [0.0143, 0.1207, 0.0798,  ..., 0.0000, 0.0355, 0.0179],\n",
            "        [0.1268, 0.1086, 0.1372,  ..., 0.0000, 0.0327, 0.0016],\n",
            "        ...,\n",
            "        [0.0000, 0.1050, 0.0473,  ..., 0.0000, 0.0315, 0.0000],\n",
            "        [0.0000, 0.1606, 0.1866,  ..., 0.0455, 0.0760, 0.0433],\n",
            "        [0.0000, 0.1725, 0.1314,  ..., 0.0325, 0.0420, 0.0524]])\n"
          ]
        },
        {
          "output_type": "display_data",
          "data": {
            "text/plain": [
              "<Figure size 288x288 with 1 Axes>"
            ],
            "image/png": "[encoded data removed]"
          },
          "metadata": {
            "needs_background": "light"
          }
        },
        {
          "output_type": "execute_result",
          "data": {
            "text/plain": [
              "<matplotlib.image.AxesImage at 0x7f6a415265e0>"
            ]
          },
          "metadata": {},
          "execution_count": 89
        },
        {
          "output_type": "display_data",
          "data": {
            "text/plain": [
              "<Figure size 432x288 with 1 Axes>"
            ],
            "image/png": "[encoded data removed]"
          },
          "metadata": {
            "needs_background": "light"
          }
        }
      ],
      "source": [
        "################# GRADCAM ####################   \n",
        "\n",
        "model.eval()\n",
        "\n",
        "# This is an example of a positive mammogram:\n",
        "patientID = '500'\n",
        "imageID = '1923583324'\n",
        "path =  patientID + \"_\" + imageID + \".png\"\n",
        "image = Image.open(samples_zip.open(path))\n",
        "image_tensor = transform(image).unsqueeze(0).to(device)\n",
        "\n",
        "# Ask the model to predict the class for a positive example\n",
        "pred = model(image_tensor).squeeze() \n",
        "\n",
        "# Perform a backward pass on the positive class prediction\n",
        "pred[1].backward()\n",
        "# Get the gradients that we recorded\n",
        "gradients = model.get_activations_gradient().squeeze()\n",
        "\n",
        "# Weight each of the final convolution channels by corresponding gradients\n",
        "activations = model.get_activations(image_tensor).detach()\n",
        "for i in range(5): # Last convolutional layer has an output of 5 channels\n",
        "    activations[:, i] *= gradients[i]\n",
        "\n",
        "# Average across all of the activations\n",
        "heatmap = torch.mean(activations, dim=1).squeeze()\n",
        "# Apply ReLU to the heatmap so that we only care about positive features\n",
        "heatmap = np.maximum(heatmap.cpu(), 0)\n",
        "# Normalize the heatmap:\n",
        "heatmap /= torch.max(heatmap)\n",
        "\n",
        "# Show the heatmap:\n",
        "plt.matshow(heatmap.squeeze())\n",
        "plt.show()\n",
        "\n",
        "# Show the original image:\n",
        "plt.imshow(image_tensor.cpu().squeeze(0).numpy().reshape(512, 512), cmap='gray')\n"
      ]
    },
    {
      "cell_type": "code",
      "source": [
        "# This code maps the heatmap onto the actual image and saves that mapping\n",
        "import cv2\n",
        "# Code for converting images is found here:\n",
        "# https://stackoverflow.com/questions/14134892/convert-image-from-pil-to-opencv-format\n",
        "# and here (again): https://medium.com/@stepanulyanin/implementing-grad-cam-in-pytorch-ea0937c31e82\n",
        "\n",
        "# Again, This is an example of a positive mammogram:\n",
        "patientID = '505'\n",
        "imageID = '322793737'\n",
        "path =  patientID + \"_\" + imageID + \".png\"\n",
        "image = np.asarray(Image.open(samples_zip.open(path)))\n",
        "\n",
        "# Convert grayscale numpy to cv2:\n",
        "cv_img = cv2.cvtColor(image, cv2.COLOR_GRAY2BGR)\n",
        "\n",
        "# Convert heatmap back to numpy\n",
        "heatmap = np.asarray(heatmap)\n",
        "\n",
        "# Resize heatmap so its the shape of the original image\n",
        "heatmap = cv2.resize(heatmap, (cv_img.shape[1], cv_img.shape[0]))\n",
        "heatmap = np.uint8(255 * heatmap)\n",
        "\n",
        "# Use special color map from the cv2 library so it looks like a heatmap:\n",
        "heatmap = cv2.applyColorMap(heatmap, cv2.COLORMAP_JET)\n",
        "# Add the two:\n",
        "superimposed_img = heatmap * 0.4 + cv_img\n",
        "cv2.imwrite('./mammogramheatmap.jpg', superimposed_img)"
      ],
      "metadata": {
        "colab": {
          "base_uri": "https://localhost:8080/"
        },
        "id": "m4EVEZOn2bRx",
        "outputId": "b92d3d71-5617-4d2c-d46a-1104c6e7f341"
      },
      "execution_count": null,
      "outputs": [
        {
          "output_type": "execute_result",
          "data": {
            "text/plain": [
              "True"
            ]
          },
          "metadata": {},
          "execution_count": 95
        }
      ]
    },
    {
      "cell_type": "code",
      "execution_count": null,
      "metadata": {
        "id": "wMKR6LHEP3Ph",
        "colab": {
          "base_uri": "https://localhost:8080/"
        },
        "outputId": "6b6d1823-cc13-4e81-f2e2-c80634d7c883"
      },
      "outputs": [
        {
          "output_type": "stream",
          "name": "stdout",
          "text": [
            "Step: 0 out of 10942\n",
            "Step: 1000 out of 10942\n",
            "Step: 2000 out of 10942\n",
            "Step: 3000 out of 10942\n",
            "Step: 4000 out of 10942\n",
            "Step: 5000 out of 10942\n",
            "Step: 6000 out of 10942\n",
            "Step: 7000 out of 10942\n",
            "Step: 8000 out of 10942\n",
            "Step: 9000 out of 10942\n",
            "Step: 10000 out of 10942\n",
            "Test set accuracy: 92.63388777188814\n",
            "Positive Accuracy: 9.44206008583691\n",
            "Negative Accuracy: 94.4439256699972\n"
          ]
        }
      ],
      "source": [
        "################### TESTING #####################\n",
        "x_test, y_test = meta_dataset.test_sets()\n",
        "with torch.no_grad():\n",
        "  total_correct = 0\n",
        "  total_guessed = 0\n",
        "    \n",
        "  class_correct = [0 for i in range(2)]\n",
        "  class_total = [0 for i in range(2)]\n",
        "    \n",
        "  for i, (patientID, imageID) in enumerate(x_test):\n",
        "      filename = str(patientID) + \"_\" + str(imageID) + \".png\"\n",
        "\n",
        "      # Get the current mammogram out of the zip file\n",
        "      current_mammo = Image.open(samples_zip.open(filename))\n",
        "      image_tensor = transform(current_mammo).squeeze()\n",
        "\n",
        "      label = y_test[i] # Get true label    \n",
        "            \n",
        "      # Put image tensors in format batch, channels, height, width\n",
        "      image_tensor = image_tensor.to(device).unsqueeze(0).unsqueeze(0)\n",
        "      \n",
        "      # Forward pass\n",
        "      outputs = model(image_tensor)\n",
        "      predicted = int(torch.argmax(outputs, 1))\n",
        "\n",
        "      total_guessed += 1\n",
        "      total_correct += (predicted == label)\n",
        "      # incremeent correct predictions for each class:\n",
        "      if (label == predicted):\n",
        "          class_correct[label] += 1\n",
        "      class_total[label] += 1\n",
        "      # For seeing how close we are:\n",
        "      if i % 1000 == 0:\n",
        "        print(f'Step: {i} out of {len(y_test)}')\n",
        "            \n",
        "  accuracy = 100 * total_correct / total_guessed # Accuracy of the total network\n",
        "  neg_acc = 100 * class_correct[0] / class_total[0]\n",
        "  pos_acc = 100 * class_correct[1] / class_total[1]\n",
        "\n",
        "\n",
        "  print(f'Test set accuracy: {accuracy}')\n",
        "  print(f'Positive Accuracy: {pos_acc}')\n",
        "  print(f'Negative Accuracy: {neg_acc}')"
      ]
    },
    {
      "cell_type": "code",
      "source": [
        "print(f'Out of {class_total[1]} total positive examples, we identified {class_correct[1]} correctly')\n",
        "print(f'Out of {class_total[0]} total negative examples, we identified {class_correct[0]} correctly')"
      ],
      "metadata": {
        "colab": {
          "base_uri": "https://localhost:8080/"
        },
        "id": "iinTWN3tbbpU",
        "outputId": "be75e9b4-e766-45e7-b65a-58e294951d99"
      },
      "execution_count": null,
      "outputs": [
        {
          "output_type": "stream",
          "name": "stdout",
          "text": [
            "Out of 233 total positive examples, we identified 22 correctly\n",
            "Out of 10709 total negative examples, we identified 10114 correctly\n"
          ]
        }
      ]
    }
  ],
  "metadata": {
    "accelerator": "GPU",
    "colab": {
      "provenance": [],
      "include_colab_link": true
    },
    "gpuClass": "standard",
    "kernelspec": {
      "display_name": "Python 3",
      "name": "python3"
    },
    "language_info": {
      "name": "python"
    }
  },
  "nbformat": 4,
  "nbformat_minor": 0
}